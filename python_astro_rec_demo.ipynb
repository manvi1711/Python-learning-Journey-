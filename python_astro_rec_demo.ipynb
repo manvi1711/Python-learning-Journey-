{
  "nbformat": 4,
  "nbformat_minor": 0,
  "metadata": {
    "colab": {
      "provenance": [],
      "authorship_tag": "ABX9TyOEtT2IzK+OFOs4vwKDjqng",
      "include_colab_link": true
    },
    "kernelspec": {
      "name": "python3",
      "display_name": "Python 3"
    },
    "language_info": {
      "name": "python"
    }
  },
  "cells": [
    {
      "cell_type": "markdown",
      "metadata": {
        "id": "view-in-github",
        "colab_type": "text"
      },
      "source": [
        "<a href=\"https://colab.research.google.com/github/manvi1711/Python-learning-Journey-/blob/main/python_astro_rec_demo.ipynb\" target=\"_parent\"><img src=\"https://colab.research.google.com/assets/colab-badge.svg\" alt=\"Open In Colab\"/></a>"
      ]
    },
    {
      "cell_type": "code",
      "execution_count": 2,
      "metadata": {
        "id": "t9EpJtzRmGpr"
      },
      "outputs": [],
      "source": [
        "import pandas as pd\n",
        "import numpy as np\n",
        "from sklearn.feature_extraction.text import TfidfVectorizer\n",
        "from sklearn.metrics.pairwise import cosine_similarity"
      ]
    },
    {
      "cell_type": "code",
      "source": [
        "ASTRO_DB = [\n",
        "    dict(id=1, name=\"Luna Stardust\",\n",
        "         specialties=[\"love\", \"relationships\", \"soulmate\", \"dating\", \"marriage\"],\n",
        "         rating=4.8, price=3.99,\n",
        "         bio=\"Expert in love and relationship guidance.\",\n",
        "         languages=[\"English\", \"Hindi\"]),\n",
        "    dict(id=2, name=\"Marcus Celestial\",\n",
        "         specialties=[\"career\", \"money\", \"business\", \"finance\", \"job\", \"wealth\"],\n",
        "         rating=4.7, price=4.50,\n",
        "         bio=\"Career & business astrologer for financial growth.\"),\n",
        "    dict(id=3, name=\"Aria Moonchild\",\n",
        "         specialties=[\"spirituality\", \"healing\", \"chakras\", \"meditation\"],\n",
        "         rating=4.9, price=5.25,\n",
        "         bio=\"Spiritual healer focused on chakra alignment.\"),\n",
        "    dict(id=4, name=\"Victor Cosmos\",\n",
        "         specialties=[\"family\", \"parenting\", \"children\", \"home\", \"harmony\"],\n",
        "         rating=4.6, price=3.75,\n",
        "         bio=\"Family astrologer for parent–child bonding.\"),\n",
        "    dict(id=5, name=\"Zara Mystique\",\n",
        "         specialties=[\"health\", \"wellness\", \"medical astrology\", \"recovery\"],\n",
        "         rating=4.5, price=4.25,\n",
        "         bio=\"Health & wellness advice through medical astrology.\"),\n",
        "    dict(id=6, name=\"Phoenix Starweaver\",\n",
        "         specialties=[\"travel\", \"education\", \"adventure\", \"study abroad\"],\n",
        "         rating=4.4, price=4.50,\n",
        "         bio=\"Travel + education astrology guidance.\"),\n",
        "    dict(id=7, name=\"Sage Timekeeper\",\n",
        "         specialties=[\"timing\", \"decisions\", \"manifestation\", \"life purpose\"],\n",
        "         rating=4.8, price=5.75,\n",
        "         bio=\"Master of cosmic timing for major decisions.\"),\n",
        "    dict(id=8, name=\"Celeste Oracle\",\n",
        "         specialties=[\"general guidance\", \"destiny\", \"future\", \"insight\"],\n",
        "         rating=4.7, price=4.00,\n",
        "         bio=\"Comprehensive life-path and destiny readings.\")\n",
        "]\n"
      ],
      "metadata": {
        "id": "gROpSNWpnOQF"
      },
      "execution_count": 4,
      "outputs": []
    },
    {
      "cell_type": "code",
      "source": [
        "class AstrologerRecommender:\n",
        "    def __init__(self, db):\n",
        "        self.db = db\n",
        "        docs = [\" \".join(a[\"specialties\"]) + \" \" + a[\"bio\"] for a in db]\n",
        "        self.vectorizer = TfidfVectorizer(stop_words=\"english\", ngram_range=(1,2))\n",
        "        self.tfidf = self.vectorizer.fit_transform(docs)\n",
        "\n",
        "    def _score_tfidf(self, query):\n",
        "        q_vec = self.vectorizer.transform([query])\n",
        "        return cosine_similarity(q_vec, self.tfidf).flatten()\n",
        "\n",
        "    def _score_keywords(self, query):\n",
        "        q_words = set(query.lower().split())\n",
        "        scores = []\n",
        "        for a in self.db:\n",
        "            s_words = set(\" \".join(a[\"specialties\"]).lower().split())\n",
        "            b_words = set(a[\"bio\"].lower().split())\n",
        "            score = (2*len(q_words & s_words) + len(q_words & b_words)) / (len(q_words) or 1)\n",
        "            scores.append(score)\n",
        "        return np.array(scores)\n",
        "\n",
        "    def get_recommendations(self, query, k=3, method=\"hybrid\"):\n",
        "        if method == \"tfidf\":\n",
        "            sims = self._score_tfidf(query)\n",
        "        elif method == \"keywords\":\n",
        "            sims = self._score_keywords(query)\n",
        "        elif method == \"hybrid\":\n",
        "            sims = 0.4*self._score_tfidf(query) + 0.6*self._score_keywords(query)\n",
        "        else:\n",
        "            raise ValueError(\"method must be tfidf | keywords | hybrid\")\n",
        "        top = sims.argsort()[-k:][::-1]\n",
        "        results = []\n",
        "        for idx in top:\n",
        "            a = self.db[idx]\n",
        "            results.append(\n",
        "                dict(name=a[\"name\"],\n",
        "                     relevance=round(float(sims[idx]), 4),\n",
        "                     rating=a[\"rating\"],\n",
        "                     price=a[\"price\"],\n",
        "                     specialties=a[\"specialties\"])\n",
        "            )\n",
        "        return results\n"
      ],
      "metadata": {
        "id": "ErKGRz41niXB"
      },
      "execution_count": 6,
      "outputs": []
    },
    {
      "cell_type": "code",
      "source": [
        "if __name__ == \"__main__\":\n",
        "    system = AstrologerRecommender(ASTRO_DB)\n",
        "    demo_queries = [\n",
        "        \"I need relationship advice about my boyfriend\",\n",
        "        \"Looking for career guidance and business opportunities\",\n",
        "        \"Want spiritual healing and chakra alignment\",\n",
        "        \"Need help with family issues and parenting\",\n",
        "        \"Health problems and wellness advice needed\",\n",
        "        \"Planning to travel abroad and study\",\n",
        "        \"When should I make major life decisions?\",\n",
        "        \"General life guidance and future predictions\"\n",
        "    ]\n",
        "\n",
        "    for q in demo_queries:\n",
        "        print(f\"\\n🔮  Query: {q}\")\n",
        "        for r in system.get_recommendations(q, k=3, method=\"hybrid\"):\n",
        "            print(f\"   • {r['name']:<17} | score {r['relevance']:<4} | \"\n",
        "                  f\"⭐{r['rating']} | ${r['price']}/min | {', '.join(r['specialties'][:3])}…\")"
      ],
      "metadata": {
        "colab": {
          "base_uri": "https://localhost:8080/"
        },
        "id": "7dvZiXftiEA8",
        "outputId": "15447720-ea89-4e2d-f960-7aa79f29cc90"
      },
      "execution_count": 8,
      "outputs": [
        {
          "output_type": "stream",
          "name": "stdout",
          "text": [
            "\n",
            "🔮  Query: I need relationship advice about my boyfriend\n",
            "   • Luna Stardust     | score 0.1514 | ⭐4.8 | $3.99/min | love, relationships, soulmate…\n",
            "   • Zara Mystique     | score 0.1375 | ⭐4.5 | $4.25/min | health, wellness, medical astrology…\n",
            "   • Sage Timekeeper   | score 0.0  | ⭐4.8 | $5.75/min | timing, decisions, manifestation…\n",
            "\n",
            "🔮  Query: Looking for career guidance and business opportunities\n",
            "   • Marcus Celestial  | score 0.8027 | ⭐4.7 | $4.5/min | career, money, business…\n",
            "   • Celeste Oracle    | score 0.2864 | ⭐4.7 | $4.0/min | general guidance, destiny, future…\n",
            "   • Luna Stardust     | score 0.1163 | ⭐4.8 | $3.99/min | love, relationships, soulmate…\n",
            "\n",
            "🔮  Query: Want spiritual healing and chakra alignment\n",
            "   • Aria Moonchild    | score 0.6169 | ⭐4.9 | $5.25/min | spirituality, healing, chakras…\n",
            "   • Celeste Oracle    | score 0.1  | ⭐4.7 | $4.0/min | general guidance, destiny, future…\n",
            "   • Luna Stardust     | score 0.1  | ⭐4.8 | $3.99/min | love, relationships, soulmate…\n",
            "\n",
            "🔮  Query: Need help with family issues and parenting\n",
            "   • Victor Cosmos     | score 0.6151 | ⭐4.6 | $3.75/min | family, parenting, children…\n",
            "   • Celeste Oracle    | score 0.0857 | ⭐4.7 | $4.0/min | general guidance, destiny, future…\n",
            "   • Luna Stardust     | score 0.0857 | ⭐4.8 | $3.99/min | love, relationships, soulmate…\n",
            "\n",
            "🔮  Query: Health problems and wellness advice needed\n",
            "   • Zara Mystique     | score 0.9198 | ⭐4.5 | $4.25/min | health, wellness, medical astrology…\n",
            "   • Celeste Oracle    | score 0.1  | ⭐4.7 | $4.0/min | general guidance, destiny, future…\n",
            "   • Luna Stardust     | score 0.1  | ⭐4.8 | $3.99/min | love, relationships, soulmate…\n",
            "\n",
            "🔮  Query: Planning to travel abroad and study\n",
            "   • Phoenix Starweaver | score 0.8959 | ⭐4.4 | $4.5/min | travel, education, adventure…\n",
            "   • Celeste Oracle    | score 0.1  | ⭐4.7 | $4.0/min | general guidance, destiny, future…\n",
            "   • Luna Stardust     | score 0.1  | ⭐4.8 | $3.99/min | love, relationships, soulmate…\n",
            "\n",
            "🔮  Query: When should I make major life decisions?\n",
            "   • Sage Timekeeper   | score 0.4462 | ⭐4.8 | $5.75/min | timing, decisions, manifestation…\n",
            "   • Celeste Oracle    | score 0.038 | ⭐4.7 | $4.0/min | general guidance, destiny, future…\n",
            "   • Phoenix Starweaver | score 0.0  | ⭐4.4 | $4.5/min | travel, education, adventure…\n",
            "\n",
            "🔮  Query: General life guidance and future predictions\n",
            "   • Celeste Oracle    | score 0.8597 | ⭐4.7 | $4.0/min | general guidance, destiny, future…\n",
            "   • Sage Timekeeper   | score 0.2328 | ⭐4.8 | $5.75/min | timing, decisions, manifestation…\n",
            "   • Luna Stardust     | score 0.1271 | ⭐4.8 | $3.99/min | love, relationships, soulmate…\n"
          ]
        }
      ]
    },
    {
      "cell_type": "code",
      "source": [],
      "metadata": {
        "id": "z0ATdX_RiJt_"
      },
      "execution_count": null,
      "outputs": []
    }
  ]
}
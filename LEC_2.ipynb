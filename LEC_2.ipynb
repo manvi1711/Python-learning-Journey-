{
  "nbformat": 4,
  "nbformat_minor": 0,
  "metadata": {
    "colab": {
      "provenance": [],
      "authorship_tag": "ABX9TyPmVVJFKPATwhHY54drm6za",
      "include_colab_link": true
    },
    "kernelspec": {
      "name": "python3",
      "display_name": "Python 3"
    },
    "language_info": {
      "name": "python"
    }
  },
  "cells": [
    {
      "cell_type": "markdown",
      "metadata": {
        "id": "view-in-github",
        "colab_type": "text"
      },
      "source": [
        "<a href=\"https://colab.research.google.com/github/manvi1711/Python-learning-Journey-/blob/main/LEC_2.ipynb\" target=\"_parent\"><img src=\"https://colab.research.google.com/assets/colab-badge.svg\" alt=\"Open In Colab\"/></a>"
      ]
    },
    {
      "cell_type": "markdown",
      "source": [
        "DATATYPES:\n",
        "1- text type= string\n",
        "2- numeric type= int, float, complex\n",
        "3- sequence type= list, tupule, range\n",
        "4- mapping type= dictionary\n",
        "5- set type= set, frozenset\n",
        "6- boolean type= bool\n",
        "7- binary type= bytearray, memoryview\n",
        "8- none type= none type"
      ],
      "metadata": {
        "id": "HF0PJr60U2lX"
      }
    },
    {
      "cell_type": "code",
      "execution_count": 1,
      "metadata": {
        "id": "4NgIqsGYX4_m",
        "colab": {
          "base_uri": "https://localhost:8080/"
        },
        "outputId": "ca221f87-4fe8-46a8-ea29-99d08d27f936"
      },
      "outputs": [
        {
          "output_type": "execute_result",
          "data": {
            "text/plain": [
              "str"
            ]
          },
          "metadata": {},
          "execution_count": 1
        }
      ],
      "source": [
        "a= 'banana'\n",
        "type(a)"
      ]
    },
    {
      "cell_type": "code",
      "source": [
        "b= 3j+12\n",
        "type(b)"
      ],
      "metadata": {
        "colab": {
          "base_uri": "https://localhost:8080/"
        },
        "id": "SdF-cWAyVi1J",
        "outputId": "62685685-b36d-40da-f512-0d882f571fa8"
      },
      "execution_count": 2,
      "outputs": [
        {
          "output_type": "execute_result",
          "data": {
            "text/plain": [
              "complex"
            ]
          },
          "metadata": {},
          "execution_count": 2
        }
      ]
    },
    {
      "cell_type": "markdown",
      "source": [
        "LISTS:\n",
        "1-it is used to store multiple items in a single variable\n",
        "2-it is mutable(change)\n",
        "3-it allows duplicate values\n",
        "4-it is ordered\n",
        "5-denoted by []"
      ],
      "metadata": {
        "id": "xGUNo6GUVpvf"
      }
    },
    {
      "cell_type": "code",
      "source": [
        "#slicing\n",
        "fruits= ['apple', 'banana', 36, 3j, True]\n",
        "print(fruits)\n",
        "fruits[0:4:3] #going for element 0 to 4 while skipping to third element\n"
      ],
      "metadata": {
        "colab": {
          "base_uri": "https://localhost:8080/"
        },
        "id": "ruZ4jcJgWFSN",
        "outputId": "7564393a-9f3c-4232-9a76-469b42d488b8"
      },
      "execution_count": 3,
      "outputs": [
        {
          "output_type": "stream",
          "name": "stdout",
          "text": [
            "['apple', 'banana', 36, 3j, True]\n"
          ]
        },
        {
          "output_type": "execute_result",
          "data": {
            "text/plain": [
              "['apple', 3j]"
            ]
          },
          "metadata": {},
          "execution_count": 3
        }
      ]
    },
    {
      "cell_type": "code",
      "source": [
        "#update value\n",
        "fruits= ['apple', 'banana', 36, 3j, True]\n",
        "fruits[2]= 'hello'\n",
        "print(fruits)"
      ],
      "metadata": {
        "colab": {
          "base_uri": "https://localhost:8080/"
        },
        "id": "-GH2FsQhiP5M",
        "outputId": "08c03cd6-6253-438a-f487-367684b55ffb"
      },
      "execution_count": 4,
      "outputs": [
        {
          "output_type": "stream",
          "name": "stdout",
          "text": [
            "['apple', 'banana', 'hello', 3j, True]\n"
          ]
        }
      ]
    },
    {
      "cell_type": "code",
      "source": [
        "#change item values using slicing\n",
        "fruits[0:2]= ['mango', 'lychee']\n",
        "print(fruits)"
      ],
      "metadata": {
        "colab": {
          "base_uri": "https://localhost:8080/"
        },
        "id": "USzHAsf1iRhu",
        "outputId": "fd583fda-6c4a-40ce-b159-f6858c35460c"
      },
      "execution_count": 5,
      "outputs": [
        {
          "output_type": "stream",
          "name": "stdout",
          "text": [
            "['mango', 'lychee', 'hello', 3j, True]\n"
          ]
        }
      ]
    },
    {
      "cell_type": "code",
      "source": [
        "#append= add item at the last\n",
        "fruits.append(\"hello\")\n",
        "print(fruits)"
      ],
      "metadata": {
        "colab": {
          "base_uri": "https://localhost:8080/"
        },
        "id": "tT1tBVFOiUu5",
        "outputId": "91f714be-b159-44e1-e639-69bc4006c6f8"
      },
      "execution_count": 6,
      "outputs": [
        {
          "output_type": "stream",
          "name": "stdout",
          "text": [
            "['mango', 'lychee', 'hello', 3j, True, 'hello']\n"
          ]
        }
      ]
    },
    {
      "cell_type": "code",
      "source": [
        "#insert= add item anywhere\n",
        "fruits.insert(2, \"please\")\n",
        "print(fruits)"
      ],
      "metadata": {
        "colab": {
          "base_uri": "https://localhost:8080/"
        },
        "id": "opIZujzLiYzC",
        "outputId": "7224ffcb-c126-44b4-e16d-d5ae6dfd77b3"
      },
      "execution_count": 7,
      "outputs": [
        {
          "output_type": "stream",
          "name": "stdout",
          "text": [
            "['mango', 'lychee', 'please', 'hello', 3j, True, 'hello']\n"
          ]
        }
      ]
    },
    {
      "cell_type": "code",
      "source": [
        "#remove= remove itemusing their names\n",
        "fruits.remove('mango')\n",
        "print(fruits)"
      ],
      "metadata": {
        "colab": {
          "base_uri": "https://localhost:8080/"
        },
        "id": "Gdkj6wuniby2",
        "outputId": "2f509576-4a8f-42d6-fed1-e77010a470d6"
      },
      "execution_count": 8,
      "outputs": [
        {
          "output_type": "stream",
          "name": "stdout",
          "text": [
            "['lychee', 'please', 'hello', 3j, True, 'hello']\n"
          ]
        }
      ]
    },
    {
      "cell_type": "code",
      "source": [
        "#pop function= remove item from list using index number\n",
        "fruits.pop(3)\n",
        "print(fruits)"
      ],
      "metadata": {
        "colab": {
          "base_uri": "https://localhost:8080/"
        },
        "id": "7kZorjH6ifid",
        "outputId": "47a6fec2-21b0-4807-96d6-c6470ab361aa"
      },
      "execution_count": 9,
      "outputs": [
        {
          "output_type": "stream",
          "name": "stdout",
          "text": [
            "['lychee', 'please', 'hello', True, 'hello']\n"
          ]
        }
      ]
    },
    {
      "cell_type": "code",
      "source": [
        "#delete function delete the variable itself so if we try to print that variable\n",
        "#it gives error\n",
        "\n",
        "del fruits\n",
        "print(fruits)"
      ],
      "metadata": {
        "colab": {
          "base_uri": "https://localhost:8080/",
          "height": 176
        },
        "id": "c1AAg4bHiiiA",
        "outputId": "b0a0977b-6f54-41bf-aad8-3702bdb9ca24"
      },
      "execution_count": 10,
      "outputs": [
        {
          "output_type": "error",
          "ename": "NameError",
          "evalue": "name 'fruits' is not defined",
          "traceback": [
            "\u001b[0;31m---------------------------------------------------------------------------\u001b[0m",
            "\u001b[0;31mNameError\u001b[0m                                 Traceback (most recent call last)",
            "\u001b[0;32m/tmp/ipython-input-10-420500865.py\u001b[0m in \u001b[0;36m<cell line: 0>\u001b[0;34m()\u001b[0m\n\u001b[1;32m      3\u001b[0m \u001b[0;34m\u001b[0m\u001b[0m\n\u001b[1;32m      4\u001b[0m \u001b[0;32mdel\u001b[0m \u001b[0mfruits\u001b[0m\u001b[0;34m\u001b[0m\u001b[0;34m\u001b[0m\u001b[0m\n\u001b[0;32m----> 5\u001b[0;31m \u001b[0mprint\u001b[0m\u001b[0;34m(\u001b[0m\u001b[0mfruits\u001b[0m\u001b[0;34m)\u001b[0m\u001b[0;34m\u001b[0m\u001b[0;34m\u001b[0m\u001b[0m\n\u001b[0m",
            "\u001b[0;31mNameError\u001b[0m: name 'fruits' is not defined"
          ]
        }
      ]
    },
    {
      "cell_type": "code",
      "source": [
        "#clear function= clear the list items\n",
        "fruits.clear()\n",
        "print(fruits)"
      ],
      "metadata": {
        "id": "oq0dEOYbil_m"
      },
      "execution_count": null,
      "outputs": []
    },
    {
      "cell_type": "markdown",
      "source": [
        "TUPLE: 1-tuple is also used to store multiple items in a single variable 2-it is ordered 3-it is immutable 4-allow duplicate value 5-it is denoted by ()"
      ],
      "metadata": {
        "id": "ttz5jLNsiqiv"
      }
    },
    {
      "cell_type": "code",
      "source": [
        "animal= ('cat', 'dog', 'cow', 'lion', 467, 678)\n",
        "print(animal)\n",
        "type(animal)\n"
      ],
      "metadata": {
        "colab": {
          "base_uri": "https://localhost:8080/"
        },
        "id": "nWOeSK9Vitkr",
        "outputId": "2b3752e2-7d73-49c2-d88d-39fd87c92ec2"
      },
      "execution_count": 11,
      "outputs": [
        {
          "output_type": "stream",
          "name": "stdout",
          "text": [
            "('cat', 'dog', 'cow', 'lion', 467, 678)\n"
          ]
        },
        {
          "output_type": "execute_result",
          "data": {
            "text/plain": [
              "tuple"
            ]
          },
          "metadata": {},
          "execution_count": 11
        }
      ]
    },
    {
      "cell_type": "code",
      "source": [
        "animal[3:5]\n"
      ],
      "metadata": {
        "colab": {
          "base_uri": "https://localhost:8080/"
        },
        "id": "KDacfTidiwWy",
        "outputId": "6995c864-ba95-42ee-8c3e-00de8fea8b08"
      },
      "execution_count": 12,
      "outputs": [
        {
          "output_type": "execute_result",
          "data": {
            "text/plain": [
              "('lion', 467)"
            ]
          },
          "metadata": {},
          "execution_count": 12
        }
      ]
    },
    {
      "cell_type": "code",
      "source": [
        "animal[1:5:2] #start:stop:step"
      ],
      "metadata": {
        "colab": {
          "base_uri": "https://localhost:8080/"
        },
        "id": "eQ-6djCGizCl",
        "outputId": "4ccf4cad-0970-4e23-f7e2-6149ed785f4c"
      },
      "execution_count": 13,
      "outputs": [
        {
          "output_type": "execute_result",
          "data": {
            "text/plain": [
              "('dog', 'lion')"
            ]
          },
          "metadata": {},
          "execution_count": 13
        }
      ]
    },
    {
      "cell_type": "code",
      "source": [
        "#tuple is unmutable\n",
        "animal.append('manvi')\n",
        "print(animal)"
      ],
      "metadata": {
        "colab": {
          "base_uri": "https://localhost:8080/",
          "height": 176
        },
        "id": "Nmqw6pU9i3V4",
        "outputId": "becdc027-02fd-4a1b-c1ca-c54b3c26fa8a"
      },
      "execution_count": 14,
      "outputs": [
        {
          "output_type": "error",
          "ename": "AttributeError",
          "evalue": "'tuple' object has no attribute 'append'",
          "traceback": [
            "\u001b[0;31m---------------------------------------------------------------------------\u001b[0m",
            "\u001b[0;31mAttributeError\u001b[0m                            Traceback (most recent call last)",
            "\u001b[0;32m/tmp/ipython-input-14-3714789114.py\u001b[0m in \u001b[0;36m<cell line: 0>\u001b[0;34m()\u001b[0m\n\u001b[1;32m      1\u001b[0m \u001b[0;31m#tuple is unmutable\u001b[0m\u001b[0;34m\u001b[0m\u001b[0;34m\u001b[0m\u001b[0m\n\u001b[0;32m----> 2\u001b[0;31m \u001b[0manimal\u001b[0m\u001b[0;34m.\u001b[0m\u001b[0mappend\u001b[0m\u001b[0;34m(\u001b[0m\u001b[0;34m'manvi'\u001b[0m\u001b[0;34m)\u001b[0m\u001b[0;34m\u001b[0m\u001b[0;34m\u001b[0m\u001b[0m\n\u001b[0m\u001b[1;32m      3\u001b[0m \u001b[0mprint\u001b[0m\u001b[0;34m(\u001b[0m\u001b[0manimal\u001b[0m\u001b[0;34m)\u001b[0m\u001b[0;34m\u001b[0m\u001b[0;34m\u001b[0m\u001b[0m\n",
            "\u001b[0;31mAttributeError\u001b[0m: 'tuple' object has no attribute 'append'"
          ]
        }
      ]
    },
    {
      "cell_type": "code",
      "source": [
        "animal= ('cat', 'dog', 'cow', 'lion', 467, 678)\n",
        "x = list(animal) #typecasting it to list\n",
        "x[2] = 'manvi'\n",
        "animal = tuple(x)\n",
        "print(animal)"
      ],
      "metadata": {
        "colab": {
          "base_uri": "https://localhost:8080/"
        },
        "id": "7qIqadRci4pT",
        "outputId": "9a145d3d-bb8b-4ed0-b937-af39431bc493"
      },
      "execution_count": 15,
      "outputs": [
        {
          "output_type": "stream",
          "name": "stdout",
          "text": [
            "('cat', 'dog', 'manvi', 'lion', 467, 678)\n"
          ]
        }
      ]
    },
    {
      "cell_type": "code",
      "source": [
        "#appending tuple\n",
        "animal= ('cat', 'dog', 'cow', 'lion', 467, 678)\n",
        "x = list(animal) #typecasting it to list\n",
        "x.append('manvi')\n",
        "animal = tuple(x)\n",
        "print(animal)"
      ],
      "metadata": {
        "colab": {
          "base_uri": "https://localhost:8080/"
        },
        "id": "denK4MyMi7Ov",
        "outputId": "b5761a5b-a66a-406c-8705-53c016b2ad0d"
      },
      "execution_count": 16,
      "outputs": [
        {
          "output_type": "stream",
          "name": "stdout",
          "text": [
            "('cat', 'dog', 'cow', 'lion', 467, 678, 'manvi')\n"
          ]
        }
      ]
    },
    {
      "cell_type": "code",
      "source": [
        "x = list(animal)\n",
        "x.insert(2, 'hello')\n",
        "animal = tuple(x)\n",
        "print(animal)"
      ],
      "metadata": {
        "colab": {
          "base_uri": "https://localhost:8080/"
        },
        "id": "tL7GAxuTi-7_",
        "outputId": "d4537bc4-3aa9-4266-efb4-0deadf449831"
      },
      "execution_count": 17,
      "outputs": [
        {
          "output_type": "stream",
          "name": "stdout",
          "text": [
            "('cat', 'dog', 'hello', 'cow', 'lion', 467, 678, 'manvi')\n"
          ]
        }
      ]
    }
  ]
}
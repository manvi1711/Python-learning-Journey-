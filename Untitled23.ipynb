{
  "nbformat": 4,
  "nbformat_minor": 0,
  "metadata": {
    "colab": {
      "provenance": [],
      "authorship_tag": "ABX9TyNQkmMeSvS/7NMqjCZ3IHxW",
      "include_colab_link": true
    },
    "kernelspec": {
      "name": "python3",
      "display_name": "Python 3"
    },
    "language_info": {
      "name": "python"
    }
  },
  "cells": [
    {
      "cell_type": "markdown",
      "metadata": {
        "id": "view-in-github",
        "colab_type": "text"
      },
      "source": [
        "<a href=\"https://colab.research.google.com/github/manvi1711/Python-learning-Journey-/blob/main/Untitled23.ipynb\" target=\"_parent\"><img src=\"https://colab.research.google.com/assets/colab-badge.svg\" alt=\"Open In Colab\"/></a>"
      ]
    },
    {
      "cell_type": "markdown",
      "source": [
        "CONDITIONAL STATEMENTS"
      ],
      "metadata": {
        "id": "_bCjS7aKAJ2p"
      }
    },
    {
      "cell_type": "code",
      "execution_count": null,
      "metadata": {
        "colab": {
          "base_uri": "https://localhost:8080/"
        },
        "id": "oRkpYHEG8_D4",
        "outputId": "08ef358d-228c-47e2-d6bc-769cc2329732"
      },
      "outputs": [
        {
          "output_type": "stream",
          "name": "stdout",
          "text": [
            "smaller\n",
            "fine\n"
          ]
        }
      ],
      "source": [
        "x = 5\n",
        "if x < 10:\n",
        "  print(\"smaller\")\n",
        "if x > 20:\n",
        "  print(\"bigger\")\n",
        "\n",
        "print(\"fine\")"
      ]
    },
    {
      "cell_type": "code",
      "source": [
        "n = 5\n",
        "while n > 0 : #till n is greater than 0 run this loop\n",
        "  print(n)\n",
        "  n = n - 1\n",
        "print(\"fuckoff\") #if n not greater than 0"
      ],
      "metadata": {
        "colab": {
          "base_uri": "https://localhost:8080/"
        },
        "id": "8LuHcT3J_SpB",
        "outputId": "0343db99-ba68-4a38-9cf3-06a012cafa89"
      },
      "execution_count": null,
      "outputs": [
        {
          "output_type": "stream",
          "name": "stdout",
          "text": [
            "5\n",
            "4\n",
            "3\n",
            "2\n",
            "1\n",
            "fuckoff\n"
          ]
        }
      ]
    },
    {
      "cell_type": "code",
      "source": [
        "x = 12.2\n",
        "y = 5\n",
        "x = 100\n",
        "print(x+y)"
      ],
      "metadata": {
        "colab": {
          "base_uri": "https://localhost:8080/"
        },
        "id": "rQ_Exq1XAO4v",
        "outputId": "9b7255ed-b8a6-40da-fa6b-51bf6e26f03e"
      },
      "execution_count": null,
      "outputs": [
        {
          "output_type": "stream",
          "name": "stdout",
          "text": [
            "105\n"
          ]
        }
      ]
    },
    {
      "cell_type": "code",
      "source": [],
      "metadata": {
        "id": "8owBPICJp9k9"
      },
      "execution_count": null,
      "outputs": []
    }
  ]
}